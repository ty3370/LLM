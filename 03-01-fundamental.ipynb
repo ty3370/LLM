{
 "cells": [
  {
   "cell_type": "markdown",
   "id": "a77cd6d2-beb6-4443-bee8-ca90d6921a76",
   "metadata": {},
   "source": [
    "# API를 이용해 ChatGPT API 활용하기"
   ]
  },
  {
   "cell_type": "markdown",
   "id": "c8ad58bf-49fd-4dab-b3b2-fefe939e89d9",
   "metadata": {},
   "source": [
    "현재 Python이 실행 중인 가상환경과 일치하는지 확인하기 위해 실행하는 코드이다.  \n",
    "정상적이라면 /Path/가상환경명/bin/python과 같은 형태로 출력된다."
   ]
  },
  {
   "cell_type": "code",
   "execution_count": null,
   "id": "7da8b73a-f321-4acc-aa78-0f34c198e3cc",
   "metadata": {},
   "outputs": [],
   "source": [
    "!python --version"
   ]
  },
  {
   "cell_type": "code",
   "execution_count": null,
   "id": "a8382e88",
   "metadata": {},
   "outputs": [],
   "source": [
    "import sys\n",
    "sys.executable"
   ]
  },
  {
   "cell_type": "markdown",
   "id": "e1f8abb0",
   "metadata": {},
   "source": [
    "## ChatGPT API 사용을 위해 미리 해야 할 일"
   ]
  },
  {
   "cell_type": "markdown",
   "id": "c371e56a",
   "metadata": {},
   "source": [
    "<h3>1. ChatGPT API 키 발급받기</h3>\n",
    "<h3>2. 가상환경 설치하기(anaconda)</h3>\n",
    "Anaconda는 가상환경을 설치하고 지원하는 프로그램이며, 이를 설치하면 별도의 파이썬을 설치하지 않아도 된다.<br>\n",
    "설치 링크 <a href=\"https://www.anaconda.com/download/\">click</a>\n",
    "<h3>3. 나만의 가상환경 만들기</h3>\n",
    "명령 프롬프트나 터미널을 열어서 아래의 명령어를 입력한다.<br>\n",
    "<b>conda create -n llm python=3.11.5</b><br>\n",
    "<b>conda activate llm</b><br>\n",
    "<b>pip install -r requirements.txt</b><br>\n",
    "깃허브 레포지토리에서 다운로드 받으면 requirements.txt를 받을 수 있으며, 해당 폴더로 이동해 명령어를 실행해야 한다.<br>"
   ]
  },
  {
   "cell_type": "markdown",
   "id": "0780b707-62f8-472b-aeb6-19fd9056be27",
   "metadata": {},
   "source": [
    ".env 파일을 만들어야 한다.  \n",
    "메모장이나 텍스트 편집기로 만든 다음, 저장할 때, '.env'로 이름을 지정한다.  \n",
    ".env 파일은 실행하는 파이썬 파일과 같은 경로에 위치하도록 한다.  \n",
    ".env에 들어가야 할 내용은 다음과 같다.  \n",
    "\n",
    "<B>OPENAI_API_KEY=<I>내가 복사한 api key</I></B>"
   ]
  },
  {
   "cell_type": "code",
   "execution_count": 1,
   "id": "58ab5b15",
   "metadata": {
    "scrolled": true
   },
   "outputs": [],
   "source": [
    "import os\n",
    "import time\n",
    "import re\n",
    "import json\n",
    "import openai\n",
    "from openai._client import OpenAI #ChatGPT API 이용을 위한 라이브러리\n",
    "from dotenv import load_dotenv #.env에서 파일을 읽어오기 위한 환경변수 처리 라이브러리\n",
    "\n",
    "load_dotenv() # 환경 파일 불러오기\n",
    "\n",
    "client = OpenAI(api_key = os.getenv('OPENAI_API_KEY'))"
   ]
  },
  {
   "cell_type": "code",
   "execution_count": 2,
   "id": "2010ad33",
   "metadata": {},
   "outputs": [],
   "source": [
    "TEMPERATURE = 0.0\n",
    "MAX_TOKENS = 16000\n",
    "MODEL = 'gpt-4-turbo'\n",
    "context = [] # 리스트\n",
    "\n",
    "def check_tokens(items):\n",
    "    cnt = 0\n",
    "\n",
    "    if items is None:\n",
    "        return cnt\n",
    "\n",
    "    for item in items:\n",
    "        cnt += len(item['content'])\n",
    "\n",
    "    return cnt"
   ]
  },
  {
   "cell_type": "markdown",
   "id": "3ac1ef78",
   "metadata": {},
   "source": [
    "## Chatbot"
   ]
  },
  {
   "cell_type": "code",
   "execution_count": 3,
   "id": "aa6312c3",
   "metadata": {},
   "outputs": [],
   "source": [
    "def conversate():\n",
    "    while(1):\n",
    "        message = input('Chat:')\n",
    "        message = message.strip()\n",
    "    \n",
    "        if message == '':\n",
    "            print('Input your talk.')\n",
    "            continue\n",
    "        elif message == 'exit':\n",
    "            break\n",
    "    \n",
    "        # Examine if the size of check is over the maximum tokens\n",
    "        total_cnt = check_tokens(context) + len(message)\n",
    "\n",
    "        if total_cnt >= MAX_TOKENS:\n",
    "            context.clear()\n",
    "            print('context cleared.')\n",
    "\n",
    "        # Setup up for message to call ChatGPT\n",
    "        if len(context) == 0:\n",
    "            context.append({\"role\": \"system\", \"content\": \"You are a helpful assistant.\"})\n",
    "            context.append({\"role\": \"user\", \"content\": message})\n",
    "        else:\n",
    "            context.append({\"role\": \"user\", \"content\": message})\n",
    "\n",
    "        response = client.chat.completions.create(model=MODEL, messages=context, temperature=TEMPERATURE)\n",
    "        answer = response.choices[0].message.content\n",
    "        print(f\"AI: {answer}\")\n",
    "        #codes = markdown.markdown(answer, extensions=['fenced_code', 'codehilite'])\n",
    "        context.append({'role': 'assistant', 'content': answer})\n",
    "\n",
    "        if check_tokens(context) >= MAX_TOKENS:\n",
    "            context.clear()"
   ]
  },
  {
   "cell_type": "code",
   "execution_count": 4,
   "id": "fa1054f4-24c8-43b4-8f40-1239761b96b7",
   "metadata": {},
   "outputs": [
    {
     "name": "stdout",
     "output_type": "stream",
     "text": [
      "파이썬을 공부하기 위해 추천할 수 있는 몇 가지 책들이 있습니다. 여기에 몇 가지를 소개해 드릴게요:\n",
      "\n",
      "1. **파이썬 코딩의 기술** (Brett Slatkin 저) - 이 책은 파이썬의 다양한 기능을 효과적으로 사용하는 방법을 설명하며, 보다 효율적인 코드를 작성하는 데 도움을 줍니다.\n",
      "\n",
      "2. **파이썬 프로그래밍 완벽 가이드** (Mark Lutz 저) - 파이썬의 기초부터 고급 주제까지 폭넓게 다루며, 초보자와 경험 있는 개발자 모두에게 유용합니다.\n",
      "\n",
      "3. **파이썬 라이브러리를 활용한 데이터 분석** (Wes McKinney 저) - 데이터 분석에 특화된 책으로, pandas와 같은 라이브러리를 중심으로 파이썬을 사용하는 방법을 설명합니다.\n",
      "\n",
      "4. **파이썬 머신러닝 완벽 가이드** (Sebastian Raschka, Vahid Mirjalili 저) - 머신러닝에 초점을 맞춘 이 책은 기본적인 머신러닝 알고리즘부터 시작하여, 파이썬을 이용한 실용적인 머신러닝 기법을 다룹니다.\n",
      "\n",
      "5. **처음 배우는 파이썬** (Bill Lubanovic 저) - 파이썬의 기본 개념과 함께 실용적인 프로그래밍 기술을 배울 수 있는 책으로, 초보자에게 적합합니다.\n",
      "\n",
      "이 책들은 파이썬의 다양한 측면을 다루고 있으므로, 자신의 학습 목표와 수준에 맞게 선택하면 좋을 것입니다.\n"
     ]
    }
   ],
   "source": [
    "message = '파이썬을 공부하려면 어떤 책을 읽으면 좋을까?'\n",
    "\n",
    "messages = []\n",
    "messages.append({\"role\": \"system\", \"content\": \"너는 훌륭한 비서야.\"})\n",
    "messages.append({\"role\": \"user\", \"content\": message})\n",
    "\n",
    "response = client.chat.completions.create(model=MODEL, messages=messages, temperature=TEMPERATURE)\n",
    "answer = response.choices[0].message.content\n",
    "print(answer)"
   ]
  },
  {
   "cell_type": "code",
   "execution_count": 5,
   "id": "42c57dbf-a925-496b-962e-c761f63d34a6",
   "metadata": {},
   "outputs": [
    {
     "data": {
      "text/plain": [
       "[{'role': 'system', 'content': '너는 훌륭한 비서야.'},\n",
       " {'role': 'user', 'content': '파이썬을 공부하려면 어떤 책을 읽으면 좋을까?'}]"
      ]
     },
     "execution_count": 5,
     "metadata": {},
     "output_type": "execute_result"
    }
   ],
   "source": [
    "messages"
   ]
  },
  {
   "cell_type": "code",
   "execution_count": 6,
   "id": "5a2387aa-1d7e-48ae-9485-49f9db0c30ae",
   "metadata": {},
   "outputs": [
    {
     "name": "stdout",
     "output_type": "stream",
     "text": [
      "파이썬을 공부하기 위해 추천할 수 있는 몇 가지 책들이 있습니다. 여기에 몇 가지를 소개해 드릴게요:\n",
      "\n",
      "1. **파이썬 코딩의 기술** (Brett Slatkin 저) - 이 책은 파이썬의 다양한 기능을 효과적으로 사용하는 방법을 설명하며, 보다 효율적인 코드를 작성하는 데 도움을 줍니다.\n",
      "\n",
      "2. **파이썬 프로그래밍 완벽 가이드** (Mark Lutz 저) - 파이썬의 기초부터 고급 주제까지 폭넓게 다루며, 초보자와 경험 있는 개발자 모두에게 유용합니다.\n",
      "\n",
      "3. **파이썬 라이브러리를 활용한 데이터 분석** (Wes McKinney 저) - 데이터 분석에 특화된 책으로, pandas와 같은 라이브러리를 중심으로 파이썬을 사용하는 방법을 설명합니다.\n",
      "\n",
      "4. **파이썬 머신러닝 완벽 가이드** (Sebastian Raschka, Vahid Mirjalili 저) - 머신러닝에 초점을 맞춘 이 책은 기본적인 머신러닝 알고리즘부터 시작하여, 파이썬을 이용한 실용적인 머신러닝 기법을 다룹니다.\n",
      "\n",
      "5. **처음 배우는 파이썬** (Bill Lubanovic 저) - 파이썬의 기본 개념과 함께 실용적인 프로그래밍 기술을 배울 수 있는 책으로, 초보자에게 적합합니다.\n",
      "\n",
      "이 책들은 파이썬의 다양한 측면을 다루고 있으므로, 자신의 학습 목표와 수준에 맞게 선택하면 좋을 것입니다.\n"
     ]
    }
   ],
   "source": [
    "print(answer)"
   ]
  },
  {
   "cell_type": "code",
   "execution_count": 7,
   "id": "6d5c70bc",
   "metadata": {},
   "outputs": [
    {
     "name": "stdin",
     "output_type": "stream",
     "text": [
      "Chat: 안녕\n"
     ]
    },
    {
     "name": "stdout",
     "output_type": "stream",
     "text": [
      "AI: 안녕하세요! 무엇을 도와드릴까요?\n"
     ]
    },
    {
     "name": "stdin",
     "output_type": "stream",
     "text": [
      "Chat: 1부터 100까지 더하면 얼마야?\n"
     ]
    },
    {
     "name": "stdout",
     "output_type": "stream",
     "text": [
      "AI: 1부터 100까지의 합은 공식을 사용하여 쉽게 구할 수 있습니다. 이 공식은 \\( \\frac{n(n + 1)}{2} \\) 입니다. 여기서 \\( n \\)은 100이 됩니다.\n",
      "\n",
      "계산하면:\n",
      "\n",
      "\\[\n",
      "\\frac{100 \\times (100 + 1)}{2} = \\frac{100 \\times 101}{2} = 5050\n",
      "\\]\n",
      "\n",
      "따라서, 1부터 100까지 더하면 5050이 됩니다.\n"
     ]
    },
    {
     "name": "stdin",
     "output_type": "stream",
     "text": [
      "Chat: 200까지는?\n"
     ]
    },
    {
     "name": "stdout",
     "output_type": "stream",
     "text": [
      "AI: 1부터 200까지의 합을 구하는 공식은 동일하게 \\( \\frac{n(n + 1)}{2} \\) 입니다. 여기서 \\( n \\)은 200이 됩니다.\n",
      "\n",
      "계산하면:\n",
      "\n",
      "\\[\n",
      "\\frac{200 \\times (200 + 1)}{2} = \\frac{200 \\times 201}{2} = 20100\n",
      "\\]\n",
      "\n",
      "따라서, 1부터 200까지 더하면 20100이 됩니다.\n"
     ]
    },
    {
     "name": "stdin",
     "output_type": "stream",
     "text": [
      "Chat: exit\n"
     ]
    }
   ],
   "source": [
    "conversate()"
   ]
  },
  {
   "cell_type": "code",
   "execution_count": 8,
   "id": "4ce03015",
   "metadata": {},
   "outputs": [],
   "source": [
    "from IPython.display import display, Markdown\n",
    "context = []\n",
    "\n",
    "def single_ask(message):\n",
    "    message = message.strip()\n",
    "\n",
    "    if message == '':\n",
    "        print('대화 내용을 입력하세요.')\n",
    "    elif message == 'exit':\n",
    "        return\n",
    "\n",
    "    # 대화 맥락을 고려하여 전체 최대 토큰을 초과하는지 체크하도록 한다.\n",
    "    total_cnt = check_tokens(context) + len(message)\n",
    "\n",
    "    if total_cnt >= MAX_TOKENS:\n",
    "        context.clear()\n",
    "        print('context cleared.')\n",
    "\n",
    "    # ChatGPT 대화를 위한 메시지 형태 설정하기\n",
    "    if len(context) == 0:\n",
    "        context.append({\"role\": \"system\", \"content\": \"You are a helpful assistant.\"})\n",
    "        context.append({\"role\": \"user\", \"content\": message})\n",
    "    else:\n",
    "        context.append({\"role\": \"user\", \"content\": message})\n",
    "\n",
    "    response = client.chat.completions.create(model=MODEL, messages=context, temperature=TEMPERATURE)\n",
    "    answer = response.choices[0].message.content\n",
    "    display(Markdown(answer))  # 마크다운 형태로 해석하여 출력\n",
    "    \n",
    "    context.append({'role': 'assistant', 'content': answer})\n",
    "\n",
    "    if check_tokens(context) >= MAX_TOKENS:\n",
    "        context.clear()"
   ]
  },
  {
   "cell_type": "code",
   "execution_count": 9,
   "id": "3926a7fa",
   "metadata": {},
   "outputs": [
    {
     "data": {
      "text/markdown": [
       "1부터 100까지의 소수를 찾는 파이썬 코드는 다음과 같이 작성할 수 있습니다. 여기서는 간단한 방법으로 소수를 찾는 코드를 제공하겠습니다.\n",
       "\n",
       "```python\n",
       "def is_prime(n):\n",
       "    \"\"\"주어진 숫자 n이 소수인지 확인하는 함수\"\"\"\n",
       "    if n <= 1:\n",
       "        return False\n",
       "    if n <= 3:\n",
       "        return True\n",
       "    if n % 2 == 0 or n % 3 == 0:\n",
       "        return False\n",
       "    i = 5\n",
       "    while i * i <= n:\n",
       "        if n % i == 0 or n % (i + 2) == 0:\n",
       "            return False\n",
       "        i += 6\n",
       "    return True\n",
       "\n",
       "# 1부터 100까지 소수 출력\n",
       "primes = [x for x in range(1, 101) if is_prime(x)]\n",
       "print(primes)\n",
       "```\n",
       "\n",
       "이 코드는 먼저 `is_prime` 함수를 정의하여 주어진 숫자 `n`이 소수인지를 판별합니다. 이 함수는 2와 3으로 나누어 떨어지지 않는 경우, 5부터 시작하여 제곱근까지의 숫자로 나누어 떨어지지 않는지를 검사합니다. 그 후 리스트 컴프리헨션을 사용하여 1부터 100까지의 숫자 중에서 소수인 것들만을 찾아 `primes` 리스트에 저장하고 출력합니다."
      ],
      "text/plain": [
       "<IPython.core.display.Markdown object>"
      ]
     },
     "metadata": {},
     "output_type": "display_data"
    }
   ],
   "source": [
    "single_ask(\"1부터 100까지 소수를 찾는 파이썬 코드를 알려 줘.\")"
   ]
  },
  {
   "cell_type": "code",
   "execution_count": 10,
   "id": "3f489e16-0836-4fcf-bfce-5046d7775a1a",
   "metadata": {
    "scrolled": true
   },
   "outputs": [
    {
     "data": {
      "text/markdown": [
       "1부터 100까지의 소수는 다음과 같습니다:\n",
       "\n",
       "2, 3, 5, 7, 11, 13, 17, 19, 23, 29, 31, 37, 41, 43, 47, 53, 59, 61, 67, 71, 73, 79, 83, 89, 97\n",
       "\n",
       "이 숫자들은 1과 자기 자신 외에는 어떤 수로도 나누어 떨어지지 않는 수들입니다. 위에서 제공한 파이썬 코드를 실행하면 이 소수들을 얻을 수 있습니다."
      ],
      "text/plain": [
       "<IPython.core.display.Markdown object>"
      ]
     },
     "metadata": {},
     "output_type": "display_data"
    }
   ],
   "source": [
    "single_ask(\"그래서 1부터 100까지 소수는 어떤 것들이 있어?\")"
   ]
  },
  {
   "cell_type": "code",
   "execution_count": 11,
   "id": "6265c471-2a8b-454d-8d6b-540bbd323c09",
   "metadata": {},
   "outputs": [
    {
     "name": "stdout",
     "output_type": "stream",
     "text": [
      "[2, 3, 5, 7, 11, 13, 17, 19, 23, 29, 31, 37, 41, 43, 47, 53, 59, 61, 67, 71, 73, 79, 83, 89, 97]\n"
     ]
    }
   ],
   "source": [
    "def is_prime(n):\n",
    "    if n <= 1:\n",
    "        return False\n",
    "    for i in range(2, int(n**0.5) + 1):\n",
    "        if n % i == 0:\n",
    "            return False\n",
    "    return True\n",
    "\n",
    "prime_numbers = [num for num in range(1, 101) if is_prime(num)]\n",
    "print(prime_numbers)"
   ]
  },
  {
   "cell_type": "code",
   "execution_count": 15,
   "id": "a9bf002c",
   "metadata": {},
   "outputs": [],
   "source": [
    "context = [] # 리스트\n",
    "init_msg = \"\"\"\n",
    "아래의 기사를 토대로 코로나19 백신에 대한 부작용에 대해 나와 토론하려고 해.\n",
    "먼저 네가 \"안녕. 너의 의견은 뭐니?\"라고 시작해 줘.\n",
    "서로 한 번씩 의견을 돌아가면서 제시하게 될 거야.\n",
    "그리고 내가 자신의 의견을 말하면 너는 그것에 반대해서 계속해서 증거를 제시하면서 토론해.\n",
    "자 이제 시작해.\n",
    "\n",
    "기사: 코로나19 백신이 심장 관련 염증이나 뇌혈전 등의 부작용과 연관이 있다는 연구 결과가 나왔다. \n",
    "19일(이하 현지시간) 블룸버그에 따르면 글로벌 백신 데이터 네트워크(GVDN)가 코로나19 백신 접종과 관련해 소수가 신경계, 혈액, 심장 관련 부작용과 연관이 있다고 전했다. \n",
    "이 연구는 8개국 9900만명의 백신 접종자를 대상으로 진행됐다. 연구진은 접종자들에게서 코로나19 백신 주요 부작용으로 간주되는 13가지 질환을 집중 조사해 코로나 백신접종과 \n",
    "부작용 간의 상관관계를 연구했다. 그 결과 심장 근육의 염증을 뜻하는 '심근염'은 mRNA(메신저 리보핵산) 백신을 1차~3차 접종한 환자들에게서 지속적으로 확인됐다. \n",
    "이 증상은 모더나 백신 주사를 두 번째 접종한 후 가장 많이 나타났다. '박제브리아'라 일컫는 아스트라제네카 백신은 길랑-바레 증후군과 연관이 있었다. \n",
    "이외 뇌혈전의 일종인 뇌정맥동 혈전증의 증가와도 연관이 있었다. 당초 연구진은 이 질환의 발병 건수를 66건으로 예상했지만 이를 상회하는 190건의 사례를 확인했다. \n",
    "블룸버그에 따르면 코로나19 백신은 지난 3년 동안 총 135억회 이상 투여됐다. 유럽에서만 100만명 이상의 고위험군 환자들이 코로나19 팬데믹 중에도 생명을 건질 수 있었다. \n",
    "그럼에도 백신 접종자 중 소수는 여전히 부작용을 호소하고 있는 만큼 코로나19 백신과 관련한 논쟁은 지속되고 있다.\n",
    "\"\"\"\n",
    "client = OpenAI(api_key = os.getenv('OPENAI_API_KEY'))\n",
    "\n",
    "def debate():\n",
    "    is_start = True\n",
    "    \n",
    "    while(1):\n",
    "        if not is_start:\n",
    "            message = input('Human: ')\n",
    "            message = message.strip()\n",
    "    \n",
    "            if message == '':\n",
    "                print('Input your text.')\n",
    "                continue\n",
    "            elif message == 'exit':\n",
    "                break\n",
    "    \n",
    "            # 대화 맥락을 고려하여 전체 최대 토큰을 초과하는지 체크하도록 한다.\n",
    "            total_cnt = check_tokens(context) + len(message)\n",
    "\n",
    "            if total_cnt >= MAX_TOKENS:\n",
    "                context.clear()\n",
    "                print('context cleared.')\n",
    "        else:\n",
    "            is_start = False\n",
    "\n",
    "        # ChatGPT 대화를 위한 메시지 형태 설정하기\n",
    "        if len(context) == 0:\n",
    "            context.append({\"role\": \"system\", \"content\": \"너는 훌륭한 토론 선생님이야.\"})\n",
    "            context.append({\"role\": \"user\", \"content\": init_msg})\n",
    "        else:\n",
    "            context.append({\"role\": \"user\", \"content\": message})\n",
    "\n",
    "        response = client.chat.completions.create(model=MODEL, messages=context, temperature=TEMPERATURE)\n",
    "        answer = response.choices[0].message.content\n",
    "        print(f\"AI: {answer}\")\n",
    "        \n",
    "        context.append({'role': 'assistant', 'content': answer})\n",
    "        \n",
    "        if check_tokens(context) >= MAX_TOKENS:\n",
    "            context.clear()"
   ]
  },
  {
   "cell_type": "code",
   "execution_count": 16,
   "id": "22dc33e9",
   "metadata": {},
   "outputs": [
    {
     "name": "stdout",
     "output_type": "stream",
     "text": [
      "AI: 안녕. 너의 의견은 뭐니?\n"
     ]
    },
    {
     "name": "stdin",
     "output_type": "stream",
     "text": [
      "Human:  백신의 부작용은 심각하기 때문에 재고해 보아야 한다는 거야.\n"
     ]
    },
    {
     "name": "stdout",
     "output_type": "stream",
     "text": [
      "AI: 백신의 부작용이 일부에서 나타날 수 있지만, 전체적으로 보았을 때 백신의 이점이 훨씬 크다는 점을 고려해야 합니다. 기사에 따르면, 코로나19 백신은 지난 3년 동안 135억회 이상 투여되었고, 유럽에서만 100만명 이상의 고위험군 환자들이 생명을 건질 수 있었다고 합니다. 이는 백신 접종이 대규모 인구에게 심각한 질병으로부터 보호할 수 있는 매우 효과적인 수단임을 보여줍니다. 따라서, 백신의 부작용은 있을 수 있지만, 그로 인한 이득이 더 크다고 볼 수 있습니다.\n"
     ]
    },
    {
     "name": "stdin",
     "output_type": "stream",
     "text": [
      "Human:  그런데 백신은 질병을 예방하는 효과가 있지만 이번 백신은 그렇지 않았어. 백신을 맞아도 심지어 2번 이상 걸린 경우도 많아. 안 걸린 사람이 거의 없어.\n"
     ]
    },
    {
     "name": "stdout",
     "output_type": "stream",
     "text": [
      "AI: 백신이 코로나19 감염을 완전히 막지 못하는 경우가 있긴 하지만, 백신 접종은 중증 질환으로의 진행을 막고, 입원과 사망률을 크게 줄이는 데 매우 효과적입니다. 예를 들어, mRNA 백신은 특히 중증 질환 예방에 매우 높은 효과를 보여주었습니다. 또한, 백신 접종은 변이 바이러스에 대한 보호 효과도 일부 제공하며, 이는 팬데믹을 통제하는 데 중요한 역할을 합니다. 따라서, 백신 접종은 감염 자체를 완전히 막지는 못할 수 있지만, 그로 인한 심각한 결과를 줄이는 데 큰 도움이 됩니다.\n"
     ]
    },
    {
     "name": "stdin",
     "output_type": "stream",
     "text": [
      "Human:  만약 너라면 맞으면 심근염으로 평생 고생한다면 맞을 것 같아?\n"
     ]
    },
    {
     "name": "stdout",
     "output_type": "stream",
     "text": [
      "AI: 백신 접종과 관련된 부작용, 특히 심근염과 같은 심각한 부작용은 분명 우려할 만한 문제입니다. 그러나 이러한 부작용은 매우 드문 경우에 발생하며, 대부분의 사람들에게는 백신 접종이 안전하고 효과적입니다. 실제로 심근염의 경우, 접종 후 발생하는 경우가 있지만, 그 빈도는 매우 낮으며 대부분의 환자들은 회복이 가능합니다.\n",
      "\n",
      "개인적인 결정을 내릴 때는 이러한 위험과 백신 접종으로 인한 이득을 균형 있게 고려해야 합니다. 예를 들어, 코로나19로 인한 중증 질환, 장기적인 합병증, 심지어 사망의 위험을 줄일 수 있다는 점을 고려할 필요가 있습니다. 또한, 의료 전문가와 상담하여 개인의 건강 상태, 백신 접종의 잠재적 이익과 위험을 종합적으로 평가받는 것이 중요합니다. \n",
      "\n",
      "따라서, 백신 접종 결정은 개인의 건강 상태, 백신의 이점과 위험을 모두 고려한 후 신중하게 내려져야 합니다.\n"
     ]
    },
    {
     "name": "stdin",
     "output_type": "stream",
     "text": [
      "Human:  그런데 백신을 맞아도 걸리고, 이후 WHO, AHA 조사에서 치매나 경도인지장애 등을 일으켰다는 다양한 증거도 발견되고 있어. 무엇보다 코로나19의 대유행을 전혀 막지 못했다는 점도 문제야.\n"
     ]
    },
    {
     "name": "stdout",
     "output_type": "stream",
     "text": [
      "AI: 코로나19 백신과 관련된 장기적인 부작용에 대한 연구와 보고는 계속되고 있으며, 이러한 우려를 심각하게 받아들여야 합니다. 그러나 현재까지의 연구와 데이터는 백신이 코로나19로 인한 중증 질환, 입원, 사망률을 현저히 감소시키는 데 매우 효과적임을 보여줍니다. 또한, 백신 접종은 변이 바이러스의 확산을 억제하는 데도 일정 부분 기여하고 있습니다.\n",
      "\n",
      "WHO와 같은 국제 보건 기구는 백신의 장기적인 부작용을 면밀히 모니터링하고 있으며, 이러한 부작용이 확인될 경우 공개하고 대응 방안을 마련하고 있습니다. 백신이 모든 감염을 완전히 막지는 못하지만, 그 효과를 완전히 부정할 수는 없습니다. 대유행을 \"전혀 막지 못했다\"고 평가하기보다는, 백신이 제공하는 보호 효과와 그 한계를 모두 이해하는 것이 중요합니다.\n",
      "\n",
      "결국, 백신 접종은 개인과 공공의 건강을 보호하기 위한 하나의 수단으로, 다른 예방 조치와 함께 사용될 때 가장 효과적입니다. 백신의 잠재적 위험과 이득을 균형 있게 평가하고, 지속적인 연구와 데이터를 통해 백신의 안전성과 효과를 개선해 나가는 것이 중요합니다.\n"
     ]
    },
    {
     "name": "stdin",
     "output_type": "stream",
     "text": [
      "Human:  exit\n"
     ]
    }
   ],
   "source": [
    "debate()"
   ]
  },
  {
   "cell_type": "markdown",
   "id": "1b1951c5",
   "metadata": {},
   "source": [
    "## How to use ChatGPT for textual data analysis"
   ]
  },
  {
   "cell_type": "code",
   "execution_count": 17,
   "id": "a3c98db6-8a33-4102-a937-29b38d71f00e",
   "metadata": {},
   "outputs": [],
   "source": [
    "query = '''\n",
    "보기는 학생이 작성한 글이야. \n",
    "툴민의 논증(Toulmin's Argumentation Pattern)에 따라 글에 포함되어 있는 주장(claim), 반박(rebuttal), 자료(data), 보장(warrant), 뒷받침(backing), 제한 조건(qualifer)이 명시적으로 포함되어 있는지 확인하고 추출해. \n",
    "만약 관련된 요소가 글 속에 포함되어 있지 않다면 '없음'으로 표시해. \n",
    "논증 요소의 정의는 다음과 같아.\n",
    "주장(claim): Assertions about what exists or values that people hold. \n",
    "자료(data): Statements that are used as evidence to support the claim. \n",
    "보장(warrant): Statements that explain the relationship of the data to the claim. \n",
    "제한 조건(qualifier): Special conditions under which the claim holds true. \n",
    "뒷받침(backing): Underlying assumptions that are often not made explicit. \n",
    "반박(rebuttal): Statements that contradict either the data, warrant, backing or qualifier of an argument. \n",
    "'''"
   ]
  },
  {
   "cell_type": "code",
   "execution_count": 18,
   "id": "015e691f",
   "metadata": {},
   "outputs": [],
   "source": [
    "def inspect_data(text):\n",
    "    is_first = True\n",
    "    \n",
    "    try:\n",
    "        text = text.strip()\n",
    "        print('Original:', text)\n",
    "        query_msg = query + '\\nText:' + text\n",
    "\n",
    "        # 메시지 설정하기\n",
    "        messages = [\n",
    "                {\"role\": \"system\", \"content\": \"You are a helpful assistant.\"},\n",
    "                {\"role\": \"user\", \"content\": query_msg}\n",
    "        ]\n",
    "\n",
    "        # ChatGPT API 호출하기\n",
    "        response = client.chat.completions.create(model=MODEL, messages=messages, temperature=TEMPERATURE)\n",
    "        answer = response.choices[0].message.content\n",
    "        answer = answer.strip()\n",
    "\n",
    "        print(answer)\n",
    "        \n",
    "        return answer\n",
    "        \n",
    "    except openai.APIError as e:\n",
    "        #Handle API error here, e.g. retry or log\n",
    "        print(f\"OpenAI API returned an API Error: {e}\")\n",
    "        return 'Error'\n",
    "        \n",
    "    except openai.APIConnectionError as e:\n",
    "        #Handle connection error here\n",
    "        print(f\"Failed to connect to OpenAI API: {e}\")\n",
    "        return 'Error'\n",
    "        \n",
    "    except openai.RateLimitError as e:\n",
    "        #Handle rate limit error (we recommend using exponential backoff)\n",
    "        print(f\"OpenAI API request exceeded rate limit: {e}\")\n",
    "        return 'Error'"
   ]
  },
  {
   "cell_type": "code",
   "execution_count": 19,
   "id": "b51ce3d0",
   "metadata": {},
   "outputs": [],
   "source": [
    "sents = '''\n",
    "I can compare the cell to a factory because cells also have their own functions and what or must to do just like in factory.\n",
    "If there's a one cell or one thing that is not functioning, it will not work.\n",
    "'''"
   ]
  },
  {
   "cell_type": "code",
   "execution_count": 20,
   "id": "6bec6315",
   "metadata": {},
   "outputs": [
    {
     "name": "stdout",
     "output_type": "stream",
     "text": [
      "Original: I can compare the cell to a factory because cells also have their own functions and what or must to do just like in factory.\n",
      "If there's a one cell or one thing that is not functioning, it will not work.\n",
      "Here is the analysis of the student's text according to Toulmin's Argumentation Pattern:\n",
      "\n",
      "1. **주장 (Claim)**: \"I can compare the cell to a factory because cells also have their own functions and what or must to do just like in factory.\"\n",
      "   - 주장은 세포를 공장에 비유할 수 있다는 것입니다. 세포와 공장이 각각의 기능을 가지고 있다는 점에서 유사하다고 주장합니다.\n",
      "\n",
      "2. **자료 (Data)**: 없음\n",
      "   - 글에서는 세포와 공장이 유사하다는 주장을 뒷받침할 구체적인 예시나 증거를 제시하지 않았습니다.\n",
      "\n",
      "3. **보장 (Warrant)**: 없음\n",
      "   - 세포와 공장의 유사성에 대한 주장과 자료 사이의 관계를 설명하는 명시적인 보장은 제시되지 않았습니다.\n",
      "\n",
      "4. **제한 조건 (Qualifier)**: 없음\n",
      "   - 주장이 참인 특별한 조건에 대한 언급이 없습니다.\n",
      "\n",
      "5. **뒷받침 (Backing)**: 없음\n",
      "   - 주장의 기본 가정이나 이론적 배경에 대한 설명이 없습니다.\n",
      "\n",
      "6. **반박 (Rebuttal)**: \"If there's a one cell or one thing that is not functioning, it will not work.\"\n",
      "   - 이 문장은 세포나 공장의 한 부분이 제대로 기능하지 않으면 전체가 작동하지 않을 것이라는 반박적 요소를 포함하고 있습니다. 이는 주장의 예외 상황을 설명하며, 주장에 대한 반박적 요소로 볼 수 있습니다.\n",
      "\n",
      "이 글은 주장을 제시하고 있으나, 그 주장을 뒷받침할 자료, 보장, 제한 조건, 뒷받침이 부족합니다. 반박 요소만이 명시적으로 포함되어 있습니다.\n"
     ]
    }
   ],
   "source": [
    "result = inspect_data(sents)"
   ]
  },
  {
   "cell_type": "markdown",
   "id": "45e03383-8dfa-4b3a-bb70-94d575b2b0f1",
   "metadata": {},
   "source": [
    "### Using Function Calling"
   ]
  },
  {
   "cell_type": "code",
   "execution_count": 21,
   "id": "1fcca729-4b79-4a18-b5ce-61a53f86a78a",
   "metadata": {},
   "outputs": [],
   "source": [
    "functions = [\n",
    "    {\n",
    "        \"name\" : \"extract_element\",\n",
    "        \"description\": \"Extract the elements of argumentation from the text.\",\n",
    "        \"parameters\": {\n",
    "            \"type\": \"object\", \n",
    "            \"properties\": {\n",
    "                \"Claim\": {\n",
    "                    \"type\": \"string\",\n",
    "                    \"description\": \"Find claim from the text.\"\n",
    "                },\n",
    "                \"Data\": {\n",
    "                    \"type\": \"string\",\n",
    "                    \"description\": \"Find data from the text.\"\n",
    "                },\n",
    "                \"Warrant\": {\n",
    "                    \"type\": \"string\",\n",
    "                    \"description\": \"Find warrant from the text.\"\n",
    "                },\n",
    "                \"Backing\": {\n",
    "                    \"type\": \"string\",\n",
    "                    \"description\": \"Find backing from the text.\"\n",
    "                },\n",
    "                \"Qualifier\": {\n",
    "                    \"type\": \"string\",\n",
    "                    \"description\": \"Find qualifier from the text.\"\n",
    "                },\n",
    "                \"Rebuttal\": {\n",
    "                    \"type\": \"string\",\n",
    "                    \"description\": \"Find rebuttal from the text.\"\n",
    "                }\n",
    "            }\n",
    "        }\n",
    "    }\n",
    "]"
   ]
  },
  {
   "cell_type": "code",
   "execution_count": 22,
   "id": "83badabc-c5eb-4e49-a294-b469c6b3151e",
   "metadata": {},
   "outputs": [],
   "source": [
    "def inspect_data(text):\n",
    "    \n",
    "    start_time = time.time()\n",
    "    sent = text\n",
    "    sent = sent.replace('\\n', ' ').strip()\n",
    "\n",
    "    query_msg = query + '\\nText:' + sent\n",
    "    #query_msg = query + txt_def + '\\nText:' + sent\n",
    "\n",
    "    messages = [\n",
    "            {\"role\": \"system\", \"content\": \"너는 텍스트로부터 논증 요소를 분석하는 훌륭한 전문가야.\"},\n",
    "            {\"role\": \"user\", \"content\": query_msg}\n",
    "    ]\n",
    "        \n",
    "    response = client.chat.completions.create(model=MODEL,\n",
    "                                              messages=messages,\n",
    "                                              temperature=TEMPERATURE,\n",
    "                                              functions=functions, \n",
    "                                              function_call = {\"name\": functions[0][\"name\"]})\n",
    "    answer = response.choices[0].message.function_call.arguments\n",
    "    answer = json.loads(answer)\n",
    "\n",
    "    arguments = {}\n",
    "\n",
    "    arguments['Answer'] = sent\n",
    "    arguments['Claim'] = answer.get('Claim', '')\n",
    "    arguments['Data'] = answer.get('Data', '')\n",
    "    arguments['Warrant'] = answer.get('Warrant', '')\n",
    "    arguments['Backing'] = answer.get('Backing', '')\n",
    "    arguments['Qualifier'] = answer.get('Qualifier', '')\n",
    "    arguments['Rebuttal'] = answer.get('Rebuttal', '')\n",
    "    \n",
    "    print('Elapsed time:', \"{:.2f}\".format(time.time() - start_time))\n",
    "    \n",
    "    return arguments"
   ]
  },
  {
   "cell_type": "code",
   "execution_count": 23,
   "id": "6c4d49e3-518b-4efb-9524-746c1144b0c8",
   "metadata": {},
   "outputs": [
    {
     "name": "stdout",
     "output_type": "stream",
     "text": [
      "Elapsed time: 2.66\n"
     ]
    }
   ],
   "source": [
    "result_dict = inspect_data(sents)"
   ]
  },
  {
   "cell_type": "code",
   "execution_count": 24,
   "id": "f96d7d65-b97a-470c-aa40-741dd30859cd",
   "metadata": {},
   "outputs": [
    {
     "data": {
      "text/plain": [
       "{'Answer': \"I can compare the cell to a factory because cells also have their own functions and what or must to do just like in factory. If there's a one cell or one thing that is not functioning, it will not work.\",\n",
       " 'Claim': 'I can compare the cell to a factory because cells also have their own functions and what or must to do just like in factory.',\n",
       " 'Data': \"If there's a one cell or one thing that is not functioning, it will not work.\",\n",
       " 'Warrant': 'cells also have their own functions and what or must to do just like in factory',\n",
       " 'Backing': '',\n",
       " 'Qualifier': '',\n",
       " 'Rebuttal': ''}"
      ]
     },
     "execution_count": 24,
     "metadata": {},
     "output_type": "execute_result"
    }
   ],
   "source": [
    "result_dict"
   ]
  },
  {
   "cell_type": "code",
   "execution_count": null,
   "id": "6f1315b7-9c4c-4cdc-9ab4-693d8efbf179",
   "metadata": {},
   "outputs": [],
   "source": []
  }
 ],
 "metadata": {
  "kernelspec": {
   "display_name": "Python 3 (ipykernel)",
   "language": "python",
   "name": "python3"
  },
  "language_info": {
   "codemirror_mode": {
    "name": "ipython",
    "version": 3
   },
   "file_extension": ".py",
   "mimetype": "text/x-python",
   "name": "python",
   "nbconvert_exporter": "python",
   "pygments_lexer": "ipython3",
   "version": "3.11.5"
  }
 },
 "nbformat": 4,
 "nbformat_minor": 5
}
